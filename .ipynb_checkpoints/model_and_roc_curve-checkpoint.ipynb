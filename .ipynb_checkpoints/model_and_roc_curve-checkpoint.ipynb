{
 "cells": [
  {
   "cell_type": "code",
   "execution_count": 30,
   "metadata": {
    "collapsed": true
   },
   "outputs": [],
   "source": [
    "import numpy as np\n",
    "import pandas as pd\n",
    "import matplotlib.pyplot as plt\n",
    "from pandas.tseries.offsets import DateOffset\n",
    "%matplotlib inline"
   ]
  },
  {
   "cell_type": "markdown",
   "metadata": {},
   "source": [
    "# Modelling"
   ]
  },
  {
   "cell_type": "markdown",
   "metadata": {},
   "source": [
    "List out relevant features that may contain some signal. "
   ]
  },
  {
   "cell_type": "code",
   "execution_count": null,
   "metadata": {
    "collapsed": true
   },
   "outputs": [],
   "source": [
    "features = [\"avg_dist\",\n",
    "       \"avg_surge\",\n",
    "       \"surge_pct\", \"trips_in_first_30_days\", \"luxury_car_user\",\n",
    "       \"weekday_pct\", \"city__King's Landing\", \"city__Winterfell\",\n",
    "       \"phone__iPhone\", \"phone__other\", \"avg_rating_of_driver__low\",\n",
    "       \"avg_rating_by_driver__low\", \"time_as_user\"]"
   ]
  },
  {
   "cell_type": "code",
   "execution_count": null,
   "metadata": {
    "collapsed": true
   },
   "outputs": [],
   "source": [
    "result_df[features].info()"
   ]
  },
  {
   "cell_type": "markdown",
   "metadata": {},
   "source": [
    "Create a simple logistic regression model "
   ]
  },
  {
   "cell_type": "code",
   "execution_count": null,
   "metadata": {
    "collapsed": true
   },
   "outputs": [],
   "source": [
    "y = result_df.pop(\"label\")\n",
    "X = result_df[features]"
   ]
  },
  {
   "cell_type": "code",
   "execution_count": null,
   "metadata": {
    "collapsed": true
   },
   "outputs": [],
   "source": [
    "logit = sm.Logit(y, X)"
   ]
  },
  {
   "cell_type": "code",
   "execution_count": null,
   "metadata": {
    "collapsed": true,
    "scrolled": true
   },
   "outputs": [],
   "source": [
    "result = logit.fit()"
   ]
  },
  {
   "cell_type": "code",
   "execution_count": null,
   "metadata": {
    "collapsed": true
   },
   "outputs": [],
   "source": [
    "result.summary()"
   ]
  },
  {
   "cell_type": "code",
   "execution_count": null,
   "metadata": {
    "collapsed": true
   },
   "outputs": [],
   "source": [
    "X_train, X_test, y_train, y_test = train_test_split(X, y, train_size = 0.7)"
   ]
  },
  {
   "cell_type": "code",
   "execution_count": null,
   "metadata": {
    "collapsed": true
   },
   "outputs": [],
   "source": [
    "logit = sm.Logit(y_train, X_train)"
   ]
  },
  {
   "cell_type": "code",
   "execution_count": null,
   "metadata": {
    "collapsed": true
   },
   "outputs": [],
   "source": [
    "result = logit.fit()"
   ]
  },
  {
   "cell_type": "code",
   "execution_count": null,
   "metadata": {
    "collapsed": true
   },
   "outputs": [],
   "source": [
    "result.summary()"
   ]
  },
  {
   "cell_type": "code",
   "execution_count": null,
   "metadata": {
    "collapsed": true
   },
   "outputs": [],
   "source": [
    "featuresIwant = [\"avg_dist\", \"weekday_pct\", \"avg_rating_by_driver__low\", \"surge_pct\", \"trips_in_first_30_days\"]"
   ]
  },
  {
   "cell_type": "code",
   "execution_count": null,
   "metadata": {
    "collapsed": true
   },
   "outputs": [],
   "source": [
    "X_train_new = X_train[featuresIwant]"
   ]
  },
  {
   "cell_type": "code",
   "execution_count": null,
   "metadata": {
    "collapsed": true
   },
   "outputs": [],
   "source": [
    "logit_new = sm.Logit(y_train, X_train_new)"
   ]
  },
  {
   "cell_type": "code",
   "execution_count": null,
   "metadata": {
    "collapsed": true
   },
   "outputs": [],
   "source": [
    "result_new = logit_new.fit()"
   ]
  },
  {
   "cell_type": "code",
   "execution_count": null,
   "metadata": {
    "collapsed": true
   },
   "outputs": [],
   "source": [
    "result_new.summary()"
   ]
  },
  {
   "cell_type": "code",
   "execution_count": null,
   "metadata": {
    "collapsed": true
   },
   "outputs": [],
   "source": [
    "y_pred = result.predict(X_test)\n",
    "y_pred_new = result_new.predict(X_test[featuresIwant])"
   ]
  },
  {
   "cell_type": "code",
   "execution_count": null,
   "metadata": {
    "collapsed": true
   },
   "outputs": [],
   "source": [
    "fpr, tpr, threshold = roc_curve(y_test, y_pred, pos_label=None, sample_weight=None, drop_intermediate=True)\n",
    "fpr1, tpr1, threshold1 = roc_curve(y_test, y_pred_new, pos_label=None, sample_weight=None, drop_intermediate=True)"
   ]
  },
  {
   "cell_type": "code",
   "execution_count": null,
   "metadata": {
    "collapsed": true
   },
   "outputs": [],
   "source": [
    "plt.plot(fpr, tpr, label = \"all_features\")\n",
    "plt.plot(fpr1, tpr1, label = \"5 features\")\n",
    "plt.xlabel(\"False positive rate\")\n",
    "plt.ylabel(\"True positive rate\")\n",
    "plt.legend()"
   ]
  },
  {
   "cell_type": "code",
   "execution_count": null,
   "metadata": {
    "collapsed": true
   },
   "outputs": [],
   "source": [
    "df.head()"
   ]
  },
  {
   "cell_type": "code",
   "execution_count": null,
   "metadata": {
    "collapsed": true
   },
   "outputs": [],
   "source": [
    "df_2 = df.copy()"
   ]
  },
  {
   "cell_type": "code",
   "execution_count": null,
   "metadata": {
    "collapsed": true
   },
   "outputs": [],
   "source": [
    "for i in categories:\n",
    "    x = pd.get_dummies(df_2[i], prefix = str(i)+\"_\")\n",
    "    df_2 = pd.concat([df_2, x],axis=1)"
   ]
  },
  {
   "cell_type": "code",
   "execution_count": null,
   "metadata": {
    "collapsed": true
   },
   "outputs": [],
   "source": [
    "rf_df = df_2.copy()"
   ]
  },
  {
   "cell_type": "code",
   "execution_count": null,
   "metadata": {
    "collapsed": true
   },
   "outputs": [],
   "source": [
    "rf_df.columns"
   ]
  },
  {
   "cell_type": "code",
   "execution_count": null,
   "metadata": {
    "collapsed": true
   },
   "outputs": [],
   "source": [
    "features = [u'avg_dist',\n",
    "       u'avg_surge',\n",
    "       u'surge_pct', u'trips_in_first_30_days', u'luxury_car_user',\n",
    "       u'weekday_pct', u'city__Astapor', \"city__King's Landing\",\n",
    "       u'city__Winterfell', u'phone__Android', u'phone__iPhone',\n",
    "       u'phone__other', u'avg_rating_of_driver__high',\n",
    "       u'avg_rating_of_driver__low', u'avg_rating_by_driver__high',\n",
    "       u'avg_rating_by_driver__low']"
   ]
  },
  {
   "cell_type": "code",
   "execution_count": null,
   "metadata": {
    "collapsed": true
   },
   "outputs": [],
   "source": [
    "rf_df[features].info()"
   ]
  },
  {
   "cell_type": "code",
   "execution_count": null,
   "metadata": {
    "collapsed": true
   },
   "outputs": [],
   "source": [
    "y_rf = rf_df.pop(\"label\").values\n",
    "X_rf = rf_df[features].values"
   ]
  },
  {
   "cell_type": "code",
   "execution_count": null,
   "metadata": {
    "collapsed": true
   },
   "outputs": [],
   "source": [
    "Xtrain, Xtest, ytrain, ytest = train_test_split(X_rf, y_rf, train_size = 0.7)"
   ]
  },
  {
   "cell_type": "code",
   "execution_count": null,
   "metadata": {
    "collapsed": true
   },
   "outputs": [],
   "source": [
    "y_rf.shape"
   ]
  },
  {
   "cell_type": "code",
   "execution_count": null,
   "metadata": {
    "collapsed": true
   },
   "outputs": [],
   "source": [
    "rf = RandomForestClassifier(n_estimators=100, max_features=4)"
   ]
  },
  {
   "cell_type": "code",
   "execution_count": null,
   "metadata": {
    "collapsed": true
   },
   "outputs": [],
   "source": [
    "rf.fit(Xtrain, ytrain)"
   ]
  },
  {
   "cell_type": "code",
   "execution_count": null,
   "metadata": {
    "collapsed": true
   },
   "outputs": [],
   "source": [
    "predictions = rf.predict(Xtest)"
   ]
  },
  {
   "cell_type": "code",
   "execution_count": null,
   "metadata": {
    "collapsed": true
   },
   "outputs": [],
   "source": [
    "ytest.shape"
   ]
  },
  {
   "cell_type": "code",
   "execution_count": null,
   "metadata": {
    "collapsed": true
   },
   "outputs": [],
   "source": [
    "imp_features = rf.feature_importances_"
   ]
  },
  {
   "cell_type": "code",
   "execution_count": null,
   "metadata": {
    "collapsed": true
   },
   "outputs": [],
   "source": [
    "importance_list= pd.DataFrame(imp_features, index=features, columns = [\"rel_importance\"])\n",
    "#importance_list.rename(columns={0: \"relative_importances\"})\n",
    "importance_list.reset_index()"
   ]
  },
  {
   "cell_type": "code",
   "execution_count": null,
   "metadata": {
    "collapsed": true
   },
   "outputs": [],
   "source": [
    "importance_list.sort_values(\"rel_importance\", ascending = False, inplace=True)"
   ]
  },
  {
   "cell_type": "code",
   "execution_count": null,
   "metadata": {
    "collapsed": true
   },
   "outputs": [],
   "source": [
    "importance_list.reset_index()"
   ]
  },
  {
   "cell_type": "code",
   "execution_count": null,
   "metadata": {
    "collapsed": true
   },
   "outputs": [],
   "source": [
    "fpr, tpr, threshold = roc_curve(y_test, y_pred, pos_label=None, sample_weight=None, drop_intermediate=True)\n",
    "fpr1, tpr1, threshold1 = roc_curve(y_test, y_pred_new, pos_label=None, sample_weight=None, drop_intermediate=True)\n",
    "fpr2, tpr2, threshold2 = roc_curve(ytest, predictions, pos_label=None, sample_weight=None, drop_intermediate=True)"
   ]
  },
  {
   "cell_type": "code",
   "execution_count": null,
   "metadata": {
    "collapsed": true
   },
   "outputs": [],
   "source": [
    "fpr2.shape"
   ]
  },
  {
   "cell_type": "code",
   "execution_count": null,
   "metadata": {
    "collapsed": true
   },
   "outputs": [],
   "source": [
    "plt.plot(fpr, tpr, label = \"logistic_all_features\")\n",
    "plt.plot(fpr1, tpr1, label = \"logistic_5 features\")\n",
    "plt.plot(fpr2, tpr2, label = \"Random forest\")\n",
    "plt.xlabel(\"False positive rate\")\n",
    "plt.ylabel(\"True positive rate\")\n",
    "plt.legend()"
   ]
  },
  {
   "cell_type": "code",
   "execution_count": null,
   "metadata": {
    "collapsed": true
   },
   "outputs": [],
   "source": [
    "ytest.shape"
   ]
  },
  {
   "cell_type": "code",
   "execution_count": null,
   "metadata": {
    "collapsed": true
   },
   "outputs": [],
   "source": [
    "# Modelling\n",
    "\n",
    "List out relevant features that may contain some signal. \n",
    "\n",
    "features = [\"avg_dist\",\n",
    "       \"avg_surge\",\n",
    "       \"surge_pct\", \"trips_in_first_30_days\", \"luxury_car_user\",\n",
    "       \"weekday_pct\", \"city__King's Landing\", \"city__Winterfell\",\n",
    "       \"phone__iPhone\", \"phone__other\", \"avg_rating_of_driver__low\",\n",
    "       \"avg_rating_by_driver__low\", \"time_as_user\"]\n",
    "\n",
    "result_df[features].info()\n",
    "\n",
    "Create a simple logistic regression model \n",
    "\n",
    "y = result_df.pop(\"label\")\n",
    "X = result_df[features]\n",
    "\n",
    "logit = sm.Logit(y, X)\n",
    "\n",
    "result = logit.fit()\n",
    "\n",
    "result.summary()\n",
    "\n",
    "X_train, X_test, y_train, y_test = train_test_split(X, y, train_size = 0.7)\n",
    "\n",
    "logit = sm.Logit(y_train, X_train)\n",
    "\n",
    "result = logit.fit()\n",
    "\n",
    "result.summary()\n",
    "\n",
    "featuresIwant = [\"avg_dist\", \"weekday_pct\", \"avg_rating_by_driver__low\", \"surge_pct\", \"trips_in_first_30_days\"]\n",
    "\n",
    "X_train_new = X_train[featuresIwant]\n",
    "\n",
    "logit_new = sm.Logit(y_train, X_train_new)\n",
    "\n",
    "result_new = logit_new.fit()\n",
    "\n",
    "result_new.summary()\n",
    "\n",
    "y_pred = result.predict(X_test)\n",
    "y_pred_new = result_new.predict(X_test[featuresIwant])\n",
    "\n",
    "fpr, tpr, threshold = roc_curve(y_test, y_pred, pos_label=None, sample_weight=None, drop_intermediate=True)\n",
    "fpr1, tpr1, threshold1 = roc_curve(y_test, y_pred_new, pos_label=None, sample_weight=None, drop_intermediate=True)\n",
    "\n",
    "plt.plot(fpr, tpr, label = \"all_features\")\n",
    "plt.plot(fpr1, tpr1, label = \"5 features\")\n",
    "plt.xlabel(\"False positive rate\")\n",
    "plt.ylabel(\"True positive rate\")\n",
    "plt.legend()\n",
    "\n",
    "df.head()\n",
    "\n",
    "df_2 = df.copy()\n",
    "\n",
    "for i in categories:\n",
    "    x = pd.get_dummies(df_2[i], prefix = str(i)+\"_\")\n",
    "    df_2 = pd.concat([df_2, x],axis=1)\n",
    "\n",
    "rf_df = df_2.copy()\n",
    "\n",
    "rf_df.columns\n",
    "\n",
    "features = [u'avg_dist',\n",
    "       u'avg_surge',\n",
    "       u'surge_pct', u'trips_in_first_30_days', u'luxury_car_user',\n",
    "       u'weekday_pct', u'city__Astapor', \"city__King's Landing\",\n",
    "       u'city__Winterfell', u'phone__Android', u'phone__iPhone',\n",
    "       u'phone__other', u'avg_rating_of_driver__high',\n",
    "       u'avg_rating_of_driver__low', u'avg_rating_by_driver__high',\n",
    "       u'avg_rating_by_driver__low']\n",
    "\n",
    "rf_df[features].info()\n",
    "\n",
    "y_rf = rf_df.pop(\"label\").values\n",
    "X_rf = rf_df[features].values\n",
    "\n",
    "Xtrain, Xtest, ytrain, ytest = train_test_split(X_rf, y_rf, train_size = 0.7)\n",
    "\n",
    "y_rf.shape\n",
    "\n",
    "rf = RandomForestClassifier(n_estimators=100, max_features=4)\n",
    "\n",
    "rf.fit(Xtrain, ytrain)\n",
    "\n",
    "predictions = rf.predict(Xtest)\n",
    "\n",
    "ytest.shape\n",
    "\n",
    "imp_features = rf.feature_importances_\n",
    "\n",
    "importance_list= pd.DataFrame(imp_features, index=features, columns = [\"rel_importance\"])\n",
    "#importance_list.rename(columns={0: \"relative_importances\"})\n",
    "importance_list.reset_index()\n",
    "\n",
    "importance_list.sort_values(\"rel_importance\", ascending = False, inplace=True)\n",
    "\n",
    "importance_list.reset_index()\n",
    "\n",
    "fpr, tpr, threshold = roc_curve(y_test, y_pred, pos_label=None, sample_weight=None, drop_intermediate=True)\n",
    "fpr1, tpr1, threshold1 = roc_curve(y_test, y_pred_new, pos_label=None, sample_weight=None, drop_intermediate=True)\n",
    "fpr2, tpr2, threshold2 = roc_curve(ytest, predictions, pos_label=None, sample_weight=None, drop_intermediate=True)\n",
    "\n",
    "fpr2.shape\n",
    "\n",
    "plt.plot(fpr, tpr, label = \"logistic_all_features\")\n",
    "plt.plot(fpr1, tpr1, label = \"logistic_5 features\")\n",
    "plt.plot(fpr2, tpr2, label = \"Random forest\")\n",
    "plt.xlabel(\"False positive rate\")\n",
    "plt.ylabel(\"True positive rate\")\n",
    "plt.legend()\n",
    "\n",
    "ytest.shape"
   ]
  }
 ],
 "metadata": {
  "kernelspec": {
   "display_name": "Python (venv)",
   "language": "python",
   "name": "venv"
  },
  "language_info": {
   "codemirror_mode": {
    "name": "ipython",
    "version": 2
   },
   "file_extension": ".py",
   "mimetype": "text/x-python",
   "name": "python",
   "nbconvert_exporter": "python",
   "pygments_lexer": "ipython2",
   "version": "2.7.10"
  }
 },
 "nbformat": 4,
 "nbformat_minor": 2
}
